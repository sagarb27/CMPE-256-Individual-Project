{
 "cells": [
  {
   "cell_type": "code",
   "execution_count": null,
   "metadata": {},
   "outputs": [],
   "source": [
    "import pandas as pd\n",
    "import numpy as np\n",
    "from __future__ import (absolute_import, division, print_function,\n",
    "                        unicode_literals)\n",
    "\n",
    "from surprise import KNNWithMeans\n",
    "from surprise import Dataset\n",
    "from surprise import accuracy\n",
    "from surprise.model_selection import train_test_split\n",
    "from surprise import Reader\n",
    "\n",
    "\n"
   ]
  },
  {
   "cell_type": "code",
   "execution_count": null,
   "metadata": {},
   "outputs": [],
   "source": [
    "df_linkedIn_intitial = pd.read_csv('linkedIn.csv')\n"
   ]
  },
  {
   "cell_type": "code",
   "execution_count": null,
   "metadata": {},
   "outputs": [],
   "source": []
  },
  {
   "cell_type": "code",
   "execution_count": null,
   "metadata": {},
   "outputs": [],
   "source": [
    "def splitInto_Separate_list(data_frame, \n",
    "                       column_split,\n",
    "                      typ):\n",
    "    \n",
    "    #Accepts a column with multiple types and splits list variables to several rows.\n",
    "\n",
    "    data_frame = data_frame\n",
    "    column_split = column_split\n",
    "    typ =typ\n",
    "    \n",
    "    \n",
    "    row_accumulator = []\n",
    "\n",
    "    def split_list_to_rows(row):\n",
    "        SplitRow_by_column = row[column_split]\n",
    "        if isinstance(SplitRow_by_column, list):\n",
    "            for s in SplitRow_by_column:\n",
    "                newR = row.to_dict()\n",
    "                newR[column_split] = typ(s)\n",
    "                row_accumulator.append(newR)\n",
    "        else:\n",
    "            newR = row.to_dict()\n",
    "            newR[column_split] = typ(SplitRow_by_column)\n",
    "            row_accumulator.append(newR)\n",
    "  \n",
    "    df.apply(split_list_to_rows, axis=1)\n",
    "    new_df = pd.DataFrame(row_accumulator)\n",
    "  \n",
    "    return new_df"
   ]
  },
  {
   "cell_type": "code",
   "execution_count": null,
   "metadata": {},
   "outputs": [],
   "source": []
  }
 ],
 "metadata": {
  "kernelspec": {
   "display_name": "Python 3",
   "language": "python",
   "name": "python3"
  },
  "language_info": {
   "codemirror_mode": {
    "name": "ipython",
    "version": 3
   },
   "file_extension": ".py",
   "mimetype": "text/x-python",
   "name": "python",
   "nbconvert_exporter": "python",
   "pygments_lexer": "ipython3",
   "version": "3.7.2"
  }
 },
 "nbformat": 4,
 "nbformat_minor": 2
}
